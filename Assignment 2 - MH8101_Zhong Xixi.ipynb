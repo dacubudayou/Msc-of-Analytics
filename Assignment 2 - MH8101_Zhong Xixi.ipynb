{
 "cells": [
  {
   "cell_type": "markdown",
   "metadata": {},
   "source": [
    "**Preamble**\n",
    "\n",
    "**Colloboration Policy**. The student is to *explicitly identify* his/her collaborators in the assignment. If the student did not work with anyone, he/she should indicate `Collaborators=['none']`. If the student obtains a solution through research (e.g., on the web), acknowledge the source, but *write up the solution in HIS/HER OWN WORDS*. There will be a one mark penalty if a student fails to indicate his/her collaborators.\n",
    "\n",
    "**There will be NO EXCEPTIONS to this grading policy.**"
   ]
  },
  {
   "cell_type": "raw",
   "metadata": {},
   "source": [
    "Name = 'ZHONG XIXI'\n",
    "Collaborators = 'NONE'"
   ]
  },
  {
   "cell_type": "markdown",
   "metadata": {},
   "source": [
    "# Assignment 2 - Sensitivity Analysis\n",
    "\n",
    "If you need help on using Jupyter notebooks, click <a href='#help'>here</a>. \n",
    "\n",
    "Objective:\n",
    "\n",
    "In this exercise, we perform *sensity analysis* to a specific linear program (LP). \n",
    "That is, we analyse the effect of changing parameters on the optimal solution and optimal value.\n",
    "Specifically, we will look at the following scenarios:\n",
    "\n",
    "(a) Change in *objective function* for the coefficient of a *nonbasic* variable.\n",
    "\n",
    "(b) Change in *objective function* for the coefficient of a *basic* variable.\n",
    "\n",
    "(c) Change in a *RHS* value.\n",
    "\n",
    "(d) Adding a new *variable*.\n",
    "\n",
    "(e) Adding a new *constraint*.\n"
   ]
  },
  {
   "cell_type": "markdown",
   "metadata": {},
   "source": [
    "\n",
    "# Linear Program LP1\n",
    "\n",
    "For this assignment, **LP1** refers to the following linear program:\n",
    "\n",
    "$$\n",
    "\\begin{array}{crcrcrcrl}\n",
    "\\max &   &   & x_2 & - & x_3 & + & x_4\\\\ \n",
    "\\text{subject to} \n",
    "& x_1 & - &  x_2 & - & 3x_3 & + &  x_4 & \\le 7\\\\ \n",
    "&3x_1 & + &  x_2 & + &  x_3 & + & 2x_4 & \\le 2\\\\ \n",
    "&6x_1 & + & 2x_2 & + & 3x_3 & - &  x_4 & \\le 1\\\\ \n",
    "\\end{array}\n",
    "$$\n",
    "\n",
    "Note that when we refer to **LP1**. It refers to above problem with **no other modifications**."
   ]
  },
  {
   "cell_type": "code",
   "execution_count": 1,
   "metadata": {},
   "outputs": [
    {
     "name": "stdout",
     "output_type": "stream",
     "text": [
      "LP1:\n",
      "MAXIMIZE\n",
      "1*x2 + -1*x3 + 1*x4 + 0\n",
      "SUBJECT TO\n",
      "constraint1: x1 - x2 - 3 x3 + x4 <= 7\n",
      "\n",
      "constraint2: 3 x1 + x2 + x3 + 2 x4 <= 2\n",
      "\n",
      "constraint3: 6 x1 + 2 x2 + 3 x3 - x4 <= 1\n",
      "\n",
      "VARIABLES\n",
      "x1 Continuous\n",
      "x2 Continuous\n",
      "x3 Continuous\n",
      "x4 Continuous\n",
      "\n",
      "Z  : 1.4\n",
      "x1 : 0.0\n",
      "x2 : 0.8\n",
      "x3 : 0.0\n",
      "x4 : 0.6\n"
     ]
    }
   ],
   "source": [
    "# WE COMPUTE THE SOLUTION FOR LP1 HERE\n",
    "\n",
    "import pulp\n",
    "\n",
    "model = pulp.LpProblem(\"LP1\", pulp.LpMaximize)\n",
    "\n",
    "x1 = pulp.LpVariable('x1', lowBound=0)\n",
    "x2 = pulp.LpVariable('x2', lowBound=0)\n",
    "x3 = pulp.LpVariable('x3', lowBound=0)\n",
    "x4 = pulp.LpVariable('x4', lowBound=0)\n",
    "\n",
    "model += x2-x3+x4, \"Z\"\n",
    "\n",
    "\n",
    "model +=   x1 -   x2 - 3*x3 +   x4  <=  7,           \"constraint1\"\n",
    "model += 3*x1 +   x2 +   x3  + 2*x4 <=  2,           \"constraint2\"\n",
    "model += 6*x1 + 2*x2 + 3*x3 -   x4  <=  1,           \"constraint3\"\n",
    "\n",
    "print(model)\n",
    "\n",
    "model.solve()\n",
    "\n",
    "print(\"Z  : {}\".format(pulp.value(model.objective)))\n",
    "\n",
    "print(\"x1 : {}\".format(x1.varValue))\n",
    "print(\"x2 : {}\".format(x2.varValue))\n",
    "print(\"x3 : {}\".format(x3.varValue))\n",
    "print(\"x4 : {}\".format(x4.varValue))\n"
   ]
  },
  {
   "cell_type": "markdown",
   "metadata": {},
   "source": [
    "**(0) (5 marks)** Fill in the entries for the *optimal* simplex table.\n",
    "Show your working. However, feel free to use `numpy` to do the computations (click <a href='#matrix'>here</a> for simple `numpy` matrix operations).\n",
    "\n",
    "Do take note of the order of the decision variables."
   ]
  },
  {
   "cell_type": "markdown",
   "metadata": {},
   "source": [
    "Introduce slack variable and solve the LP1_slack\n"
   ]
  },
  {
   "cell_type": "code",
   "execution_count": 3,
   "metadata": {},
   "outputs": [
    {
     "name": "stdout",
     "output_type": "stream",
     "text": [
      "LP1_slack:\n",
      "MAXIMIZE\n",
      "1*x2 + -1*x3 + 1*x4 + 0\n",
      "SUBJECT TO\n",
      "constraint1: u1 + x1 - x2 - 3 x3 + x4 = 7\n",
      "\n",
      "constraint2: u2 + 3 x1 + x2 + x3 + 2 x4 = 2\n",
      "\n",
      "constraint3: u3 + 6 x1 + 2 x2 + 3 x3 - x4 = 1\n",
      "\n",
      "VARIABLES\n",
      "u1 Continuous\n",
      "u2 Continuous\n",
      "u3 Continuous\n",
      "x1 Continuous\n",
      "x2 Continuous\n",
      "x3 Continuous\n",
      "x4 Continuous\n",
      "\n",
      "Maximum: 1.4\n",
      "x1: 0.0\n",
      "x2: 0.8\n",
      "x3: 0.0\n",
      "x4: 0.6\n",
      "u1: 7.2\n",
      "u2: 0.0\n",
      "u3: 0.0\n"
     ]
    }
   ],
   "source": [
    "# You may need to use python for some computations\n",
    "\n",
    "\n",
    "import pulp\n",
    "\n",
    "\n",
    "slackmodel = pulp.LpProblem(\"LP1_slack\", pulp.LpMaximize)\n",
    "\n",
    "x1 = pulp.LpVariable('x1', lowBound=0)\n",
    "x2 = pulp.LpVariable('x2', lowBound=0)\n",
    "x3 = pulp.LpVariable('x3', lowBound=0)\n",
    "x4 = pulp.LpVariable('x4', lowBound=0)\n",
    "u1 = pulp.LpVariable('u1', lowBound=0)\n",
    "u2 = pulp.LpVariable('u2', lowBound=0)\n",
    "u3 = pulp.LpVariable('u3', lowBound=0)\n",
    "\n",
    "\n",
    "# object function\n",
    "\n",
    "slackmodel += x2 -x3 +x4, \"Z\"\n",
    "\n",
    "# constraints \n",
    "slackmodel +=   x1 -   x2 - 3*x3 +    x4 + u1  ==  7,           \"constraint1\"\n",
    "slackmodel += 3*x1 +   x2 +   x3  + 2*x4 + u2  ==  2,           \"constraint2\"\n",
    "slackmodel += 6*x1 + 2*x2 + 3*x3 -    x4 + u3  ==  1,           \"constraint3\"\n",
    "\n",
    "print(slackmodel)\n",
    "\n",
    "slackmodel.solve()\n",
    "\n",
    "print(\"Maximum: {}\".format(pulp.value(slackmodel.objective)))\n",
    "\n",
    "print(\"x1: {}\".format(x1.varValue))\n",
    "print(\"x2: {}\".format(x2.varValue))\n",
    "print(\"x3: {}\".format(x3.varValue))\n",
    "print(\"x4: {}\".format(x4.varValue))\n",
    "print(\"u1: {}\".format(u1.varValue))\n",
    "print(\"u2: {}\".format(u2.varValue))\n",
    "print(\"u3: {}\".format(u3.varValue))"
   ]
  },
  {
   "cell_type": "markdown",
   "metadata": {},
   "source": [
    "The matrix equation is as follow:\n",
    "\n",
    "\n",
    "\n",
    "| $Z$ | $x_2$ | $x_4$ | $u_1$ | $x_1$ | $x_3$ | $u_2$ | $u_3$ | RHS |\n",
    "| :-: | :---: | :---: | :---: | :---: | :---: | :---: | :---: |:---:|\n",
    "| 1   |  -1   |  -1   |   0   |   0   |   1   |   0   |   0   |  0  |\n",
    "| 0   |  -1   |   1   |   1   |   1   |   -3  |   0   |   0   |  7  |\n",
    "| 0   |   1   |   2   |   0   |   3   |   1   |   1   |   0   |  2  |\n",
    "| 0   |   2   |  -1   |   0   |   6   |   3   |   0   |   1   |  1  |"
   ]
  },
  {
   "cell_type": "code",
   "execution_count": 2,
   "metadata": {},
   "outputs": [
    {
     "name": "stdout",
     "output_type": "stream",
     "text": [
      "===========================================================================\n",
      "inverse(B)N=\n",
      "[[ 3.00000000e+00  1.40000000e+00  2.00000000e-01  4.00000000e-01]\n",
      " [ 1.11022302e-16 -2.00000000e-01  4.00000000e-01 -2.00000000e-01]\n",
      " [ 4.00000000e+00 -1.40000000e+00 -2.00000000e-01  6.00000000e-01]]\n",
      "===========================================================================\n",
      "inverse(B)b=\n",
      "[[0.8]\n",
      " [0.6]\n",
      " [7.2]]\n",
      "===========================================================================\n",
      "-CN - CB*inverse(B)*N=\n",
      "[[3.  2.2 0.6 0.2]]\n",
      "===========================================================================\n",
      "CB*inverse(B)*b=\n",
      "[[1.4]]\n"
     ]
    }
   ],
   "source": [
    "# Using NUMPY for calculations...\n",
    "\n",
    "import numpy as np \n",
    "\n",
    "CB = np.matrix([\n",
    "    [1,1,0],\n",
    "])\n",
    "\n",
    "\n",
    "CN= np.matrix([\n",
    "    [0,-1,0,0],\n",
    "])\n",
    "\n",
    "\n",
    "B = np.matrix([\n",
    "    [-1,1,1],\n",
    "    [1,2,0],\n",
    "    [2,-1,0],\n",
    "])\n",
    "\n",
    "\n",
    "\n",
    "N = np.matrix([\n",
    "    [1,-3,0,0],\n",
    "    [3,1,1,0],\n",
    "    [6,3,0,1],\n",
    "])\n",
    "\n",
    "\n",
    "b= np.matrix([\n",
    "    [7],\n",
    "    [2],\n",
    "    [1],\n",
    "])\n",
    "\n",
    "\n",
    "# to determine inverse(B)N\n",
    "print(\"===========================================================================\")\n",
    "print(\"inverse(B)N=\")\n",
    "invB_N=np.linalg.inv(B)*N\n",
    "print(invB_N)\n",
    "\n",
    "# to determine inverse(B)b\n",
    "print(\"===========================================================================\")\n",
    "print(\"inverse(B)b=\")\n",
    "invB_b=np.linalg.inv(B)*b\n",
    "print(invB_b)\n",
    "\n",
    "\n",
    "# to determine -(CN - CB * inverse(B)*N)\n",
    "print(\"===========================================================================\")\n",
    "print(\"-CN - CB*inverse(B)*N=\")\n",
    "final_CN =-(CN-CB*(np.linalg.inv(B)*N))\n",
    "print(final_CN)\n",
    "\n",
    "\n",
    "# to determine CB*inverse(B)b\n",
    "print(\"===========================================================================\")\n",
    "print(\"CB*inverse(B)*b=\")\n",
    "final_CB =CB*(np.linalg.inv(B)*b)\n",
    "print(final_CB)\n",
    "\n",
    " "
   ]
  },
  {
   "cell_type": "markdown",
   "metadata": {},
   "source": [
    "---\n",
    "\n",
    "**Answer - Optimal Simplex Table**. \n",
    "\n",
    "| $Z$ | $x_2$ | $x_4$ | $u_1$ | $x_1$ | $x_3$ | $u_2$ | $u_3$ | RHS |\n",
    "| :-: | :---: | :---: | :---: | :---: | :---: | :---: | :---: |:---:|\n",
    "| 1   |   0   |   0   |   0   |   3   |   2.2 |   0.6 |   0.2 | 1.4 |\n",
    "| 0   |   1   |   0   |   0   |   3   |   1.4 |   0.2 |   0.4 | 0.8 |\n",
    "| 0   |   0   |   1   |   0   |   0   |  -0.2 |   0.4 |  -0.2 | 0.6 |\n",
    "| 0   |   0   |   0   |   1   |   4   |  -1.4 |  -0.2 |   0.6 | 7.2 |\n",
    "\n",
    "\n",
    "---"
   ]
  },
  {
   "cell_type": "code",
   "execution_count": null,
   "metadata": {},
   "outputs": [],
   "source": []
  },
  {
   "cell_type": "markdown",
   "metadata": {},
   "source": [
    "**(a) (2 marks)**  Consider a new objective function \n",
    "$$ c_1x_1 +x_2-x_3+x_4.$$\n",
    "\n",
    "For what values of $c_1$, will the optimal value remain at $1.4$?\n"
   ]
  },
  {
   "cell_type": "code",
   "execution_count": 39,
   "metadata": {},
   "outputs": [
    {
     "name": "stdout",
     "output_type": "stream",
     "text": [
      "CB*invB*N=\n",
      "[[3.  1.2 0.6 0.2]]\n"
     ]
    }
   ],
   "source": [
    "CB_invB_N = CB*(np.linalg.inv(B))*N\n",
    "\n",
    "print(\"CB*invB*N=\")\n",
    "print(CB_invB_N)"
   ]
  },
  {
   "cell_type": "markdown",
   "metadata": {},
   "source": [
    "$-C_N $changes from (0,1,0,0) to  ($-c_1$, 1, 0, 0)\n",
    "\n",
    "As shown above, \n",
    "\n",
    "$ C_B*B^{-1}*N = $ (3,1.2,0.6,0.2)\n",
    "\n",
    "$ -(C_N - C_B*B^{-1}*N) =  -C_N + C_B*B^{-1}*N  = $ ($3-c_1$, 2.2, 0.6, 0.2) \n",
    "\n",
    "Since $3-c_1 \\ge 0$, \n",
    "\n",
    "\n",
    "Hence, the answer is &nbsp; &nbsp; $c_1 \\le 3$"
   ]
  },
  {
   "cell_type": "markdown",
   "metadata": {},
   "source": [
    "**(b) (2 marks)**  Consider a new objective function \n",
    "$$c_2x_2-x_3+x_4.$$\n",
    "\n",
    "For what values of $c_2$, will the optimal basis remain unchanged?"
   ]
  },
  {
   "cell_type": "code",
   "execution_count": 50,
   "metadata": {},
   "outputs": [
    {
     "name": "stdout",
     "output_type": "stream",
     "text": [
      "invB*b=\n",
      "[[0.8]\n",
      " [0.6]\n",
      " [7.2]]\n",
      "==========================================================================\n",
      "invB*N=\n",
      "[[ 3.00000000e+00  1.40000000e+00  2.00000000e-01  4.00000000e-01]\n",
      " [ 1.11022302e-16 -2.00000000e-01  4.00000000e-01 -2.00000000e-01]\n",
      " [ 4.00000000e+00 -1.40000000e+00 -2.00000000e-01  6.00000000e-01]]\n",
      "==========================================================================\n"
     ]
    }
   ],
   "source": [
    "print(\"invB*b=\")\n",
    "print(invB_b)\n",
    "print(\"==========================================================================\")\n",
    "print(\"invB*N=\")\n",
    "print(invB_N)\n",
    "print(\"==========================================================================\")"
   ]
  },
  {
   "cell_type": "markdown",
   "metadata": {},
   "source": [
    "\n",
    "$ -C_B {\\text{changes from}}  (-1,-1,0) {\\text{to}}  (-c_2, -1, 0) $\n",
    "\n",
    "$ -C_N =  (0,1,0,0)  $\n",
    "***\n",
    "$\n",
    "-C_B*B^{-1}*N =\n",
    "\\left(\\begin{array}{cc} \n",
    "-c_2 & -1 & 0\n",
    "\\end{array}\\right)\n",
    "\\left(\\begin{array}{cc} \n",
    "3 & 1.4 & 0.2 & 0.4\\\\\n",
    "0 & -0.2 & 0.4 & -0.2\\\\\n",
    "4 & -1.4 & -0.2 & 0.6\n",
    "\\end{array}\\right)\n",
    "=\n",
    "\\left(\\begin{array}{cc} \n",
    "-3c_2 & -1.4c_2+0.2 & -0.2c_2-0.4 & -0.4c_2+0.2\n",
    "\\end{array}\\right)\n",
    "$\n",
    "***\n",
    "$\n",
    "C_N+(-C_B*B^{-1}*N) =\n",
    "\\left(\\begin{array}{cc} \n",
    "0 & -1 & 0 & 0\n",
    "\\end{array}\\right)\n",
    "+\n",
    "\\left(\\begin{array}{cc} \n",
    "-3c_2 & -1.4c_2+0.2 & -0.2c_2-0.4 & -0.4c_2+0.2\n",
    "\\end{array}\\right)\n",
    "=\n",
    "\\left(\\begin{array}{cc} \n",
    "-3c_2 & -1.4c_2-0.8 & -0.2c_2-0.4 & -0.4c_2+0.2\n",
    "\\end{array}\\right)\n",
    "$\n",
    "\n",
    "***\n",
    "\n",
    "Zero constraint 1: &nbsp; $-3c_2 \\le 0$   &nbsp; &nbsp;==> &nbsp; &nbsp;     $ c_2 \\ge 0 $\n",
    "\n",
    "Zero constraint 2: &nbsp; $-1.4c_2-0.8 \\le 0$ &nbsp; &nbsp;==> &nbsp; &nbsp;     $ c_2 \\ge -4/7 $\n",
    "      \n",
    "Zero constraint 3: &nbsp; $-0.2c_2-0.4 \\le 0$ &nbsp; &nbsp;==> &nbsp; &nbsp;     $ c_2 \\ge -2 $\n",
    "\n",
    "Zero constraint 4: &nbsp; $-0.4c_2+0.2 \\le 0$  &nbsp; &nbsp;==> &nbsp; &nbsp;     $ c_2 \\ge 1/2 $&nbsp;\n",
    "\n",
    "Thus, $ c_2 \\ge 1/2 $\n",
    "\n",
    "***\n",
    "\n",
    "$\n",
    "C_B*B^{-1}*b =\n",
    "\\left(\\begin{array}{cc} \n",
    "c_2 & 1 & 0 \n",
    "\\end{array}\\right)\n",
    "\\left(\\begin{array}{cc} \n",
    "0.8\\\\\n",
    "0.6\\\\\n",
    "7.2\n",
    "\\end{array}\\right)\n",
    "=\n",
    "\\left(\\begin{array}{cc} \n",
    "0.8c_2+0.6\n",
    "\\end{array}\\right)\n",
    "$\n",
    "\n",
    "\n",
    "Hence, the answer is when &nbsp; &nbsp; $c_2 \\ge 1/2$ , &nbsp; &nbsp;the optimal basis is unchanged."
   ]
  },
  {
   "cell_type": "markdown",
   "metadata": {},
   "source": [
    "**(c) (2 marks)**  Suppose we modify `\"constraint 1\"` to  \n",
    "$$ x_1 - x_2 - 3x_3 + x_4 \\le b_1.$$\n",
    "\n",
    "For what values of $b_1$, will the optimal basis remain unchanged?"
   ]
  },
  {
   "cell_type": "code",
   "execution_count": 49,
   "metadata": {},
   "outputs": [
    {
     "name": "stdout",
     "output_type": "stream",
     "text": [
      "invB=\n",
      "[[ 0.   0.2  0.4]\n",
      " [ 0.   0.4 -0.2]\n",
      " [ 1.  -0.2  0.6]]\n",
      "==========================================================================\n"
     ]
    }
   ],
   "source": [
    "print(\"invB=\")\n",
    "invB = np.linalg.inv(B)\n",
    "print(invB)\n",
    "print(\"==========================================================================\")"
   ]
  },
  {
   "cell_type": "markdown",
   "metadata": {},
   "source": [
    " b  changes from (7,2,1) to  ($b_1$, 2, 1) \n",
    "\n",
    "***\n",
    "$\n",
    "B^{-1}*b =\n",
    "\\left(\\begin{array}{cc} \n",
    "0 & 0.2 & 0.4\\\\\n",
    "0 & 0.4 & -0.2\\\\\n",
    "1 & -0.2 & 0.6\n",
    "\\end{array}\\right)\n",
    "\\left(\\begin{array}{cc} \n",
    "b_1 \\\\\n",
    "2 \\\\\n",
    "1 \n",
    "\\end{array}\\right)\n",
    "=\n",
    "\\left(\\begin{array}{cc} \n",
    "0.8\\\\\n",
    "0.6\\\\\n",
    "b+0.2\n",
    "\\end{array}\\right)\n",
    "$\n",
    "***\n",
    "Zero constraint : &nbsp; $b +0.2 \\ge 0$   \n",
    "\n",
    "\n",
    "Thus,  $ b_1 \\ge -0.2 $\n",
    "\n",
    "\n",
    "\n",
    "$\n",
    "C_B*B^{-1}*b =\n",
    "\\left(\\begin{array}{cc} \n",
    "1 & 1 & 0 \n",
    "\\end{array}\\right)\n",
    "\\left(\\begin{array}{cc} \n",
    "0.8\\\\\n",
    "0.6\\\\\n",
    "b_1+0.2\n",
    "\\end{array}\\right)\n",
    "=\n",
    "\\left(\\begin{array}{cc} \n",
    "1.4\n",
    "\\end{array}\\right)\n",
    "$\n",
    "\n",
    "\n",
    "When &nbsp; &nbsp; $b_1\\ge -0.2$ , &nbsp; &nbsp;the optimal basis is unchanged."
   ]
  },
  {
   "cell_type": "markdown",
   "metadata": {},
   "source": [
    "**(d) (2 marks)** Suppose we add a new variable to **LP1** and the new linear program is:\n",
    "\n",
    "$$\n",
    "\\begin{array}{crcrcrcrcrl}\n",
    "\\max &   &   & x_2 & - & x_3 & + & x_4 & + &c_5x_5\\\\ \n",
    "\\text{subject to} \n",
    "& x_1 & - &  x_2 & - & 3x_3 & + &  x_4 & + & x_5 & \\le 7\\\\ \n",
    "&3x_1 & + &  x_2 & + &  x_3 & + & 2x_4 & + & x_5 & \\le 2\\\\ \n",
    "&6x_1 & + & 2x_2 & + & 3x_3 & - &  x_4 & + & x_5 & \\le 1\\\\ \n",
    "\\end{array}\n",
    "$$\n",
    "For what values of $c_5$, will the optimal value remain unchanged?\n"
   ]
  },
  {
   "cell_type": "code",
   "execution_count": 56,
   "metadata": {},
   "outputs": [
    {
     "name": "stdout",
     "output_type": "stream",
     "text": [
      "-CB_inv(B)_N=\n",
      "[[-3.  -1.2 -0.6 -0.2 -0.8]]\n"
     ]
    }
   ],
   "source": [
    "NEW_N = np.matrix([\n",
    "    [1,-3,0,0,1],\n",
    "    [3,1,1,0,1],\n",
    "    [6,3,0,1,1],\n",
    "])\n",
    "\n",
    "final = -(CB * invB * NEW_N)\n",
    "print(\"-CB_inv(B)_N=\")\n",
    "print(final)"
   ]
  },
  {
   "cell_type": "markdown",
   "metadata": {},
   "source": [
    "By adding a new  variable x5, the N changes to\n",
    "\n",
    "$\n",
    "N =\n",
    "\\left(\\begin{array}{cc} \n",
    "1 & -3 & 0 & 0 & 1\\\\\n",
    "3 & 1 & 1 & 0 & 1\\\\\n",
    "6 & 3 & 0 & 1 & 1\n",
    "\\end{array}\\right)\n",
    "$\n",
    "\n",
    "\n",
    "$\n",
    "-C_N =\n",
    "\\left(\\begin{array}{cc} \n",
    "0 & 1 & 0 & 0 & -c_5\n",
    "\\end{array}\\right)\n",
    "$\n",
    "\n",
    "***\n",
    "$\n",
    "-C_B*B^{-1}*N =\n",
    "\\left(\\begin{array}{cc} \n",
    "-1 & -1 & 0\n",
    "\\end{array}\\right)\n",
    "\\left(\\begin{array}{cc} \n",
    "0 & 0.2 & 0.4\\\\\n",
    "0 & 0.4 & -0.2\\\\\n",
    "1 & -0.2 & 0.6\n",
    "\\end{array}\\right)\n",
    "\\left(\\begin{array}{cc} \n",
    "1 & -3 & 0 & 0 & 1\\\\\n",
    "3 & 1 & 1 & 0 & 1\\\\\n",
    "6 & 3 & 0 & 1 & 1\n",
    "\\end{array}\\right)\n",
    "=\n",
    "\\left(\\begin{array}{cc} \n",
    "-3 & -1.2 & -0.6 & -0.2 & -0.8\n",
    "\\end{array}\\right)\n",
    "$\n",
    "***\n",
    "$\n",
    "C_N+(-C_B*B^{-1}*N) =\n",
    "\\left(\\begin{array}{cc} \n",
    "0 & -1 & 0 & 0 & c_5\n",
    "\\end{array}\\right)\n",
    "+\n",
    "\\left(\\begin{array}{cc} \n",
    "-3 & -1.2 & -0.6 & -0.2 & -0.8\n",
    "\\end{array}\\right)\n",
    "=\n",
    "\\left(\\begin{array}{cc} \n",
    "-3 & -2.2 & -0.6 & -0.2 & c_5-0.8\n",
    "\\end{array}\\right)\n",
    "$\n",
    "\n",
    "***\n",
    "\n",
    "Zero constraint : &nbsp; $c_5 -0.8 \\le 0$   \n",
    "\n",
    "Thus, $ c_5 \\le 0.8 $\n",
    "\n",
    "***\n",
    "\n",
    "\n",
    "Hence, the answer is when &nbsp; &nbsp; $c_5 \\le 0.8 $ , &nbsp; &nbsp;the optimal basis is unchanged and the optimal value reamins 1.4."
   ]
  },
  {
   "cell_type": "markdown",
   "metadata": {},
   "source": [
    "**(e) (2 marks)** Suppose we add a new constraint to **LP1** and the new constraint is:\n",
    "\n",
    "$$\n",
    "x_1+x_2+x_3+x_4\\le b_4\n",
    "$$\n",
    "For what values of $b_4$, will the optimal solution remain unchanged?"
   ]
  },
  {
   "cell_type": "markdown",
   "metadata": {},
   "source": [
    "The new matrix with the added new constraint is \n",
    "\n",
    "| $Z$ | $x_2$ | $x_4$ |  $u_1$ | $u_4$ | $x_1$ | $x_3$ | $u_2$ | $u_3$ | RHS |\n",
    "| :-: | :---: | :---: |  :---: | :---: | :---: | :---: | :---: | :---: |:---:|\n",
    "| 1   |  -1   |  -1   |    0   |   0   |   0   |   1   |   0   |   0   |  0  |\n",
    "| 0   |  -1   |   1   |    1   |   0   |   1   |  -3   |   0   |   0   |  7  |\n",
    "| 0   |   1   |   2   |    0   |   0   |   3   |   1   |   1   |   0   |  2  |\n",
    "| 0   |   2   |  -1   |    0   |   0   |   6   |   3   |   0   |   1   |  1  |\n",
    "| 0   |   1   |   0   |    0   |   1   |   1   |   1   |   0   |   0   |  b4 |"
   ]
  },
  {
   "cell_type": "code",
   "execution_count": 7,
   "metadata": {},
   "outputs": [
    {
     "name": "stdout",
     "output_type": "stream",
     "text": [
      "===========================================================================\n",
      "new inverse(B)\n",
      "[[ 0.   0.2  0.4  0. ]\n",
      " [ 0.   0.4 -0.2  0. ]\n",
      " [ 1.  -0.2  0.6  0. ]\n",
      " [ 0.  -0.6 -0.2  1. ]]\n"
     ]
    }
   ],
   "source": [
    "B = np.matrix([\n",
    "    [-1,1,1,0],\n",
    "    [1,2,0,0],\n",
    "    [2,-1,0,0],\n",
    "    [1,1,0,1],\n",
    "])\n",
    "\n",
    "\n",
    "\n",
    "# to determine inverse(B)N\n",
    "print(\"===========================================================================\")\n",
    "print(\"new inverse(B)\")\n",
    "invB=np.linalg.inv(B)\n",
    "print(invB)"
   ]
  },
  {
   "cell_type": "markdown",
   "metadata": {},
   "source": [
    "$\n",
    "b =\n",
    "\\left(\\begin{array}{cc} \n",
    "7\\\\\n",
    "2\\\\\n",
    "1\\\\\n",
    "b_4\n",
    "\\end{array}\\right)\n",
    "$\n",
    "\n",
    "$\n",
    "C_B =\n",
    "\\left(\\begin{array}{cc} \n",
    "1 & 1 & 0 & 0\n",
    "\\end{array}\\right)\n",
    "$\n",
    "\n",
    "$\n",
    "B^{-1} =\n",
    "\\left(\\begin{array}{cc} \n",
    "0 & 0.2 & 0.4 & 0\\\\\n",
    "0 & 0.4 & -0.2 & 0\\\\\n",
    "1 & -0.2 & 0.6 & 0\\\\\n",
    "0 & -0.6 & -0.2 & 1\n",
    "\\end{array}\\right)\n",
    "$\n",
    "\n",
    "\n",
    "\n",
    "\n",
    "$\n",
    "B^{-1}*b =\n",
    "\\left(\\begin{array}{cc} \n",
    "0 & 0.2 & 0.4 & 0\\\\\n",
    "0 & 0.4 & -0.2 & 0\\\\\n",
    "1 & -0.2 & 0.6 & 0\\\\\n",
    "0 & -0.6 & -0.2 & 1\n",
    "\\end{array}\\right)\n",
    "\\left(\\begin{array}{cc} \n",
    "7\\\\\n",
    "2\\\\\n",
    "1\\\\\n",
    "b_4\n",
    "\\end{array}\\right)\n",
    "=\n",
    "\\left(\\begin{array}{cc} \n",
    "0.8\\\\\n",
    "0.6\\\\\n",
    "7.2\\\\\n",
    "b_4-1.4\n",
    "\\end{array}\\right)\n",
    "$\n",
    "\n",
    "\n",
    " $b_4 -1.4 \\ge 0$   &nbsp; &nbsp;==> &nbsp; &nbsp;     $ b_4 \\ge 1.4 $\n",
    " \n",
    " \n",
    " \n",
    "\n",
    "\n",
    "$\n",
    "Z=C_B*B^{-1}*b =\n",
    "\\left(\\begin{array}{cc} \n",
    "1 & 1 & 0 & 0\n",
    "\\end{array}\\right)\n",
    "\\left(\\begin{array}{cc} \n",
    "0.8\\\\\n",
    "0.6\\\\\n",
    "7.2\\\\\n",
    "b_4-1.4\n",
    "\\end{array}\\right)\n",
    "=\n",
    "\\left(\\begin{array}{cc} \n",
    "1.4\n",
    "\\end{array}\\right)\n",
    "$\n",
    "\n",
    "\n",
    "\n",
    "Thus, when $ b_4 \\ge 1.4 $ , the optimal solution remains 1.4.\n"
   ]
  },
  {
   "cell_type": "markdown",
   "metadata": {},
   "source": [
    "---\n",
    "\n",
    "### Appendix\n",
    "\n",
    "---"
   ]
  },
  {
   "cell_type": "markdown",
   "metadata": {},
   "source": [
    "### Using `numpy` for matrix operations\n",
    "\n",
    "<a id='matrix'></a>\n",
    "\n",
    "\n",
    "Suppose we want to compute $$U^{-1}V$$\n",
    "where\n",
    "$$ \n",
    "U =\\left(\n",
    "\\begin{array}{ccc}\n",
    "1 & -6 & 0\\\\\n",
    "0 & 2 & 1\\\\\n",
    "0 & 2 & 0\\\\\n",
    "\\end{array}\n",
    "\\right)\n",
    "\\quad\n",
    "V =\\left(\n",
    "\\begin{array}{ccc}\n",
    "1  &  3 &  0\\\\\n",
    "16 & -3 &  0\\\\\n",
    "11 & -1 & -1\\\\\n",
    "\\end{array}\n",
    "\\right)\\,.\n",
    "$$\n",
    "\n",
    "The syntax is as follows."
   ]
  },
  {
   "cell_type": "code",
   "execution_count": 3,
   "metadata": {},
   "outputs": [
    {
     "name": "stdout",
     "output_type": "stream",
     "text": [
      "[[ 33.    0.   -3. ]\n",
      " [  5.5  -0.5  -0.5]\n",
      " [  5.   -2.    1. ]]\n"
     ]
    }
   ],
   "source": [
    "import numpy as np # REMEMBER TO INCLUDE THIS LINE!\n",
    "\n",
    "U = np.matrix([\n",
    "    [1,-6,0],\n",
    "    [0, 2,1],\n",
    "    [0, 2,0],\n",
    "]\n",
    ")\n",
    "\n",
    "V = np.matrix([\n",
    "    [ 0, 3, 0],\n",
    "    [16,-3, 0],\n",
    "    [11,-1,-1],\n",
    "]\n",
    ")\n",
    "\n",
    "M = np.linalg.inv(U)*V\n",
    "print(M)"
   ]
  },
  {
   "cell_type": "markdown",
   "metadata": {},
   "source": [
    "---"
   ]
  },
  {
   "cell_type": "markdown",
   "metadata": {},
   "source": [
    "<a id='help'></a>\n",
    "**Using iPython Notebooks**. When you click to the left of this box, you will notice that this box is highlighted by a slighly larger box. This is a *cell*. \n",
    "\n",
    "There are three types of cells in a notebook.\n",
    "\n",
    "1. Markdown.\n",
    "2. Code.\n",
    "3. Raw.\n",
    "\n",
    "You can change the type of cell by going to *Cell* on the tool bar.\n",
    "\n",
    "You can *evaluate* cells by hitting **Shift+Enter**. Depending on the type of cells, you will have different outputs."
   ]
  },
  {
   "cell_type": "markdown",
   "metadata": {},
   "source": [
    "---\n",
    "\n",
    "This is a **markdown** cell. Markdown is a lightweight markup language is similar to *html* with significantly less functionalities. However, the syntax is much simpler. You can find a [Markdown Cheatsheet here](https://github.com/adam-p/markdown-here/wiki/Markdown-Cheatsheet).\n",
    "\n",
    "---"
   ]
  },
  {
   "cell_type": "code",
   "execution_count": 1,
   "metadata": {},
   "outputs": [
    {
     "name": "stdout",
     "output_type": "stream",
     "text": [
      "Hello World!\n"
     ]
    }
   ],
   "source": [
    "# This is a CODE cell.\n",
    "# After you hit Shift+Enter, it evaluates the cell in Python.\n",
    "# Take note that in Python, to comment lines, you use the symbol #\n",
    "\n",
    "print(\"Hello World!\")"
   ]
  },
  {
   "cell_type": "raw",
   "metadata": {},
   "source": [
    "----\n",
    "\n",
    "This is a *raw* cell. Nothing happens when you hit Shift+Enter.\n",
    "\n",
    "----"
   ]
  },
  {
   "cell_type": "markdown",
   "metadata": {},
   "source": [
    "**Answering Questions**. You may choose to use *raw* or *markdown* cells to answer the questions. Of course, if the answer requires you to run a routine in Python, please use a *code* cell.\n"
   ]
  },
  {
   "cell_type": "code",
   "execution_count": null,
   "metadata": {
    "collapsed": true
   },
   "outputs": [],
   "source": []
  }
 ],
 "metadata": {
  "kernelspec": {
   "display_name": "Python 3",
   "language": "python",
   "name": "python3"
  },
  "language_info": {
   "codemirror_mode": {
    "name": "ipython",
    "version": 3
   },
   "file_extension": ".py",
   "mimetype": "text/x-python",
   "name": "python",
   "nbconvert_exporter": "python",
   "pygments_lexer": "ipython3",
   "version": "3.7.3"
  }
 },
 "nbformat": 4,
 "nbformat_minor": 2
}
