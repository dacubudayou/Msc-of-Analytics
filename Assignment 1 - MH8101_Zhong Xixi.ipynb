{
 "cells": [
  {
   "cell_type": "markdown",
   "metadata": {},
   "source": [
    "**Preamble**\n",
    "\n",
    "**Colloboration Policy**. The student is to *explicitly identify* his/her collaborators in the assignment. If the student did not work with anyone, he/she should indicate `Collaborators=['none']`. If the student obtains a solution through research (e.g., on the web), acknowledge the source, but *write up the solution in HIS/HER OWN WORDS*. There will be a one mark penalty if a student fails to indicate his/her collaborators.\n",
    "\n",
    "**There will be NO EXCEPTIONS to this grading policy.**"
   ]
  },
  {
   "cell_type": "raw",
   "metadata": {},
   "source": [
    "Name = 'Zhong Xixi'\n",
    "Collaborators = 'none'"
   ]
  },
  {
   "cell_type": "markdown",
   "metadata": {},
   "source": [
    "# Assignment 1 - Alternative Optimum\n",
    "\n",
    "If you need help on using Jupyter notebooks, click <a href='#help'>here</a>. \n",
    "\n",
    "Objectives:\n",
    "\n",
    "(a) Familiarize with the PuLP syntax and use PuLP to solve a linear programme (LP).\n",
    "\n",
    "(b) Determine if a LP is *degenerate* from a (PuLP) solution. In addition, compute alternative optimal solutions (if they exist) from a (PuLP) solution.\n"
   ]
  },
  {
   "cell_type": "markdown",
   "metadata": {},
   "source": [
    "\n",
    "## Hooper's Store\n",
    "\n",
    "Alan intends to sell some Abby's magical potions in Hooper's Store on Sesame street.\n",
    "\n",
    "According to Alan's estimates, the profit per bottle of Potion $i$ ($i=1,2,3,4$) is as follows. Note that negative profits for Potions 2 and 3 mean that Alan incurs losses when selling these potions.\n",
    "\n",
    "| Potions | 1 | 2 | 3 | 4 |\n",
    "|---------|---|---|---|---|\n",
    "|Profit (per bottle) |110|-30|-56|10 |\n",
    "\n",
    "However, the production of potions must adhere to the following rules:\n",
    "\n",
    "[A] $2x_2 + 5.2x_3 + 8.8\\le 10x_1\\le 7x_3 +13$;\n",
    "\n",
    "[B] $150x_1 +  10x_4      \\le 40x_2 +75x_3 + 145$; \n",
    "\n",
    "[C] $110x_2 + 286x_3 + 414\\le460x_1 +30x_4$.\n",
    "\n",
    "Here, $x_i$ denote the number of bottles of Potion $i$ that are produced.\n"
   ]
  },
  {
   "cell_type": "markdown",
   "metadata": {},
   "source": [
    "**(a) (5 marks)** You decide to use linear programming to solve Alan's problem. Formulate the linear programming problem and solve it using PuLP. \n",
    "\n",
    "NOTE: Your solution will **not** be integer. In (b), we will try to find **integer** optimal solutions."
   ]
  },
  {
   "cell_type": "code",
   "execution_count": 25,
   "metadata": {},
   "outputs": [
    {
     "name": "stdout",
     "output_type": "stream",
     "text": [
      "Hooper's Store Problem:\n",
      "MAXIMIZE\n",
      "110*x1 + -30*x2 + -56*x3 + 10*x4 + 0\n",
      "SUBJECT TO\n",
      "constraint_1: - 10 x1 + 2 x2 + 5.2 x3 <= -8.8\n",
      "\n",
      "constraint_2: 10 x1 - 7 x3 <= 13\n",
      "\n",
      "constraint_3: 150 x1 - 40 x2 - 75 x3 + 10 x4 <= 145\n",
      "\n",
      "constraint_4: - 460 x1 + 110 x2 + 286 x3 - 30 x4 <= -414\n",
      "\n",
      "VARIABLES\n",
      "x1 Continuous\n",
      "x2 Continuous\n",
      "x3 Continuous\n",
      "x4 Continuous\n",
      "\n",
      "Maximum: 114.0\n",
      "x1: 1.3\n",
      "x2: 2.1\n",
      "x3: 0.0\n",
      "x4: 3.4\n"
     ]
    }
   ],
   "source": [
    "import pulp\n",
    "\n",
    "model = pulp.LpProblem(\"Hooper's Store Problem\", pulp.LpMaximize)\n",
    "\n",
    "x1 = pulp.LpVariable('x1', lowBound=0)\n",
    "x2 = pulp.LpVariable('x2', lowBound=0)\n",
    "x3 = pulp.LpVariable('x3', lowBound=0)\n",
    "x4 = pulp.LpVariable('x4', lowBound=0)\n",
    "\n",
    "\n",
    "# object function\n",
    "model += 110*x1 - 30*x2 - 56*x3 +10*x4, \"final profit\"\n",
    "\n",
    "#constraints \n",
    "model += -10*x1 + 2*x2 + 5.2*x3 <= -8.8, \"constraint 1\"\n",
    "model += 10*x1 - 7*x3 <= 13, \"constraint 2\"\n",
    "model += 150*x1 - 40*x2 -75*x3 + 10*x4 <=145, \"constraint 3\"\n",
    "model += -460*x1 + 110*x2 + 286*x3 - 30*x4 <= -414, \"constraint 4\"\n",
    "\n",
    "print(model)\n",
    "\n",
    "model.solve()\n",
    "\n",
    "print(\"Maximum: {}\".format(pulp.value(model.objective)))\n",
    "\n",
    "print(\"x1: {}\".format(x1.varValue))\n",
    "print(\"x2: {}\".format(x2.varValue))\n",
    "print(\"x3: {}\".format(x3.varValue))\n",
    "print(\"x4: {}\".format(x4.varValue))\n"
   ]
  },
  {
   "cell_type": "markdown",
   "metadata": {},
   "source": [
    "**(b)** Notice that the solution in (a) is not integer. In other words, $x_1$, $x_2$, $x_3$, and $x_4$ are not all integers. Take the following steps to obtain an integer solution. \n",
    "\n",
    "\n",
    "**(i) (2 marks)** Introduce slack variables to the linear program in (a). Solve the new linear program using PuLP. \n",
    "\n",
    "NOTE: Your solution will **not** be integer. "
   ]
  },
  {
   "cell_type": "code",
   "execution_count": 21,
   "metadata": {},
   "outputs": [
    {
     "name": "stdout",
     "output_type": "stream",
     "text": [
      "Hooper's Store Problem:\n",
      "MAXIMIZE\n",
      "110*x1 + -30*x2 + -56*x3 + 10*x4 + 0\n",
      "SUBJECT TO\n",
      "constraint_1: 10 x1 - 2 x2 - 5.2 x3 - x5 = 8.8\n",
      "\n",
      "constraint_2: 10 x1 - 7 x3 + x6 = 13\n",
      "\n",
      "constraint_3: 150 x1 - 40 x2 - 75 x3 + 10 x4 + x7 = 145\n",
      "\n",
      "constraint_4: - 460 x1 + 110 x2 + 286 x3 - 30 x4 + x8 = -414\n",
      "\n",
      "VARIABLES\n",
      "x1 Continuous\n",
      "x2 Continuous\n",
      "x3 Continuous\n",
      "x4 Continuous\n",
      "x5 Continuous\n",
      "x6 Continuous\n",
      "x7 Continuous\n",
      "x8 Continuous\n",
      "\n",
      "Maximum: 114.0\n",
      "x1: 1.3\n",
      "x2: 2.1\n",
      "x3: 0.0\n",
      "x4: 3.4\n",
      "x5: 0.0\n",
      "x6: 0.0\n",
      "x7: 0.0\n",
      "x8: 55.0\n"
     ]
    }
   ],
   "source": [
    "import pulp\n",
    "\n",
    "slackmodel = pulp.LpProblem(\"Hooper's Store Problem\", pulp.LpMaximize)\n",
    "\n",
    "x1 = pulp.LpVariable('x1', lowBound=0)\n",
    "x2 = pulp.LpVariable('x2', lowBound=0)\n",
    "x3 = pulp.LpVariable('x3', lowBound=0)\n",
    "x4 = pulp.LpVariable('x4', lowBound=0)\n",
    "x5 = pulp.LpVariable('x5', lowBound=0)\n",
    "x6 = pulp.LpVariable('x6', lowBound=0)\n",
    "x7 = pulp.LpVariable('x7', lowBound=0)\n",
    "x8 = pulp.LpVariable('x8', lowBound=0)\n",
    "\n",
    "# object function\n",
    "\n",
    "slackmodel += 110*x1 - 30*x2 - 56*x3 +10*x4, \"final profit\"\n",
    "\n",
    "# constraints \n",
    "slackmodel += 10*x1 - 2*x2 - 5.2*x3 - x5 == 8.8, \"constraint 1\"\n",
    "slackmodel += 10*x1 - 7*x3 + x6 == 13, \"constraint 2\"\n",
    "slackmodel += 150*x1 - 40*x2 -75*x3 + 10*x4 + x7 == 145, \"constraint 3\"\n",
    "slackmodel += -460*x1 + 110*x2 + 286*x3 - 30*x4 + x8 == -414, \"constraint 4\"\n",
    "\n",
    "print(slackmodel)\n",
    "\n",
    "slackmodel.solve()\n",
    "\n",
    "print(\"Maximum: {}\".format(pulp.value(slackmodel.objective)))\n",
    "\n",
    "print(\"x1: {}\".format(x1.varValue))\n",
    "print(\"x2: {}\".format(x2.varValue))\n",
    "print(\"x3: {}\".format(x3.varValue))\n",
    "print(\"x4: {}\".format(x4.varValue))\n",
    "print(\"x5: {}\".format(x5.varValue))\n",
    "print(\"x6: {}\".format(x6.varValue))\n",
    "print(\"x7: {}\".format(x7.varValue))\n",
    "print(\"x8: {}\".format(x8.varValue))\n",
    "\n"
   ]
  },
  {
   "cell_type": "markdown",
   "metadata": {},
   "source": [
    "**(ii) (1 mark)** Identify the nonbasic and basic variables."
   ]
  },
  {
   "cell_type": "markdown",
   "metadata": {},
   "source": [
    "Basic Variables: **x1, x2, x4 & x8.** \n",
    "\n",
    "Nonbasic Variables:  **x3, x5, x6 &x7.** "
   ]
  },
  {
   "cell_type": "markdown",
   "metadata": {},
   "source": [
    "**(iii) (2 marks)** Rewrite the constraints as a matrix equation of the following form.\n",
    "$$ U \\left( \\begin{array}{c} Z \\\\ x_* \\\\ x_* \\\\ x_*\\\\ x_*\\end{array}\\right)\n",
    "\\quad\n",
    "V \\left( \\begin{array}{c} 1 \\\\ x_\\# \\\\ x_\\# \\\\ x_\\#\\\\ x_\\#\\end{array}\\right)\\,.\n",
    "$$\n",
    "Here, $x_*$'s are the basic variables, while $x_\\#$'s are the nonbasic variables.\n"
   ]
  },
  {
   "cell_type": "markdown",
   "metadata": {},
   "source": [
    "The matrix equation is as follow:\n",
    "\n",
    "$$\n",
    "\\left(\\begin{array}{cc} \n",
    "1 & -110 & 30 & -10 & 0\\\\\n",
    "0 & 50 & -10 & 0 & 0\\\\\n",
    "0 & 10 & 0 & 0 & 0\\\\\n",
    "0 & 150 & -40 & 10 & 0\\\\\n",
    "0 & -460 & 110 & -30 & 1\n",
    "\\end{array}\\right)\n",
    "\\left(\\begin{array}{cc} \n",
    "Z \\\\\n",
    "X1 \\\\\n",
    "X2 \\\\\n",
    "X4 \\\\\n",
    "X8 \n",
    "\\end{array}\\right)\n",
    "=\n",
    "\\left(\\begin{array}{cc} \n",
    "0 & -56 & 0 & 0 & 0\\\\\n",
    "44 & 26 & 5 & 0 & 0\\\\\n",
    "13 & 7 & 0 & -1 & 0\\\\\n",
    "145 & 75 & 0 & 0 & -1\\\\\n",
    "-414 & -286 & 0 & 0 & 0\n",
    "\\end{array}\\right)\n",
    "\\left(\\begin{array}{cc} \n",
    "1 \\\\\n",
    "X3 \\\\\n",
    "X5 \\\\\n",
    "X6 \\\\\n",
    "X7 \n",
    "\\end{array}\\right)\n",
    "$$ "
   ]
  },
  {
   "cell_type": "markdown",
   "metadata": {},
   "source": [
    "**(iv) (2 marks)** Using (iii), explain why the LP has alternative optimum. If you need help on using `numpy` for matrix operations, click <a href='#matrix'>here</a>. \n",
    "\n",
    "NOTE: There are numerical issues with `Python`. So you may assume values smaller than $10^{-4}$ to be zero.\n"
   ]
  },
  {
   "cell_type": "code",
   "execution_count": 23,
   "metadata": {},
   "outputs": [
    {
     "name": "stdout",
     "output_type": "stream",
     "text": [
      "[[ 1.14000000e+02 -1.42108547e-14 -5.00000000e+00 -1.00000000e+00\n",
      "  -1.00000000e+00]\n",
      " [ 1.30000000e+00  7.00000000e-01 -9.35242222e-18 -1.00000000e-01\n",
      "   7.50257979e-18]\n",
      " [ 2.10000000e+00  9.00000000e-01 -5.00000000e-01 -5.00000000e-01\n",
      "   3.71778631e-17]\n",
      " [ 3.40000000e+00  6.00000000e-01 -2.00000000e+00 -5.00000000e-01\n",
      "  -1.00000000e-01]\n",
      " [ 5.50000000e+01 -4.50000000e+01 -5.00000000e+00 -6.00000000e+00\n",
      "  -3.00000000e+00]]\n"
     ]
    }
   ],
   "source": [
    "import numpy as np \n",
    "\n",
    "U= np.matrix([\n",
    "    [1,-110,30,-10,0],\n",
    "    [0,50,-10,0,0],\n",
    "    [0,10,0,0,0],\n",
    "    [0,150,-40,10,0],\n",
    "    [0,-460,110,-30,1],\n",
    "])\n",
    "\n",
    "\n",
    "V= np.matrix([\n",
    "    [0,-56,0,0,0],\n",
    "    [44,26,5,0,0],\n",
    "    [13,7,0,-1,0],\n",
    "    [145,75,0,0,-1],\n",
    "    [-414,-286,0,0,0],\n",
    "])\n",
    "\n",
    "M = np.linalg.inv(U)*V\n",
    "print(M)\n",
    " "
   ]
  },
  {
   "cell_type": "markdown",
   "metadata": {},
   "source": [
    "$$\n",
    "\\left(\\begin{array}{cc} \n",
    "Z \\\\\n",
    "X1 \\\\\n",
    "X2 \\\\\n",
    "X4 \\\\\n",
    "X8 \n",
    "\\end{array}\\right)\n",
    "=\n",
    "\\left(\\begin{array}{cc} \n",
    "114.0 & 0 & -5.0 & -1.0 & -1.0\\\\\n",
    "1.3 & 0.7 & 0 & -0.1 & 0\\\\\n",
    "2.1 & 0.9 & -0.5 & -0.5 & 0\\\\\n",
    "3.4 & 0.6 & -2.0 & -0.5 & -0.1\\\\\n",
    "55.0 & -45.0 & -5.0 & -6.0 & -3.0\n",
    "\\end{array}\\right)\n",
    "\\left(\\begin{array}{cc} \n",
    "1 \\\\\n",
    "X3 \\\\\n",
    "X5 \\\\\n",
    "X6 \\\\\n",
    "X7 \n",
    "\\end{array}\\right)\n",
    "$$ \n",
    "\n"
   ]
  },
  {
   "cell_type": "markdown",
   "metadata": {},
   "source": [
    "\n",
    "There is zero value in the first row of the resultant matrix, which indicates that the value of one of the nonbasic variable is zero. This indicates degeneracy occurs and there are many optimal points occur. \n",
    "In this example, the corresponding value of nonbasic variable X3 in the matrix is zero. This means that no matter what value the X3 is, its coefficient (which is zero) in the profit function will make the contribution of X3 in the profit fuction to be zero. Thus that X3 could be any value within its constraint, implying the exit of a set of alternative optimum. \n"
   ]
  },
  {
   "cell_type": "markdown",
   "metadata": {},
   "source": [
    "**(v) (2 marks)** Determine the set of alternative optimum. "
   ]
  },
  {
   "cell_type": "markdown",
   "metadata": {},
   "source": [
    "Set nonbasic variable X5, X6 & X7 to be zero. \n",
    "\n",
    "\n",
    "\n",
    "$ X_1 = 1.3 + 0.7X_3\\ge 0 $ &nbsp; &nbsp;   ==> &nbsp; &nbsp;     $ X_3 \\ge -1.86 $\n",
    "\n",
    "$ X_2 = 2.1 + 0.9X_3\\ge 0 $ &nbsp;&nbsp;    ==> &nbsp; &nbsp;      $X_3 \\ge -2.33$\n",
    "\n",
    "$ X_4 = 3.4 + 0.6X_3\\ge 0 $ &nbsp;&nbsp;    ==> &nbsp; &nbsp;     $X_3 \\ge -5.67$\n",
    "\n",
    "$ X_8 = 55.0 - 45.0X_3\\ge 0 $ &nbsp;&nbsp;  ==> &nbsp; &nbsp;     $X3 \\le 1.22$\n",
    "\n",
    "\n",
    "The set of alternative optimum is \n",
    "{$X_1, X_2, X_3, X_4, X_5, X_6, X_7, X_8$} =  { $1.3+1.7X_3, 2.1+0.9X_3,   X_3,   3.4+0.6X_3,   0,   0,   0,   55-45X_3, 0\\le X_3 \\le 1.22 $ } \n",
    "\n",
    "\n",
    "\n",
    "\n",
    "\n",
    "\n",
    "\n"
   ]
  },
  {
   "cell_type": "markdown",
   "metadata": {},
   "source": [
    "**(vi) (1 mark)** Find an **integer** feasible solution whose objective value is optimal."
   ]
  },
  {
   "cell_type": "code",
   "execution_count": 24,
   "metadata": {},
   "outputs": [
    {
     "name": "stdout",
     "output_type": "stream",
     "text": [
      "Hooper's Store Problem:\n",
      "MAXIMIZE\n",
      "110*x1 + -30*x2 + -56*x3 + 10*x4 + 0\n",
      "SUBJECT TO\n",
      "constraint_1: 10 x1 - 2 x2 - 5.2 x3 - x5 = 8.8\n",
      "\n",
      "constraint_2: 10 x1 - 7 x3 + x6 = 13\n",
      "\n",
      "constraint_3: 150 x1 - 40 x2 - 75 x3 + 10 x4 + x7 = 145\n",
      "\n",
      "constraint_4: - 460 x1 + 110 x2 + 286 x3 - 30 x4 + x8 = -414\n",
      "\n",
      "VARIABLES\n",
      "0 <= x1 Integer\n",
      "0 <= x2 Integer\n",
      "0 <= x3 Integer\n",
      "0 <= x4 Integer\n",
      "0 <= x5 Integer\n",
      "0 <= x6 Integer\n",
      "0 <= x7 Integer\n",
      "0 <= x8 Integer\n",
      "\n",
      "Maximum: 114.0\n",
      "x1: 2.0\n",
      "x2: 3.0\n",
      "x3: 1.0\n",
      "x4: 4.0\n",
      "x5: 0.0\n",
      "x6: 0.0\n",
      "x7: 0.0\n",
      "x8: 10.0\n"
     ]
    }
   ],
   "source": [
    "import pulp\n",
    "\n",
    "slackmodel = pulp.LpProblem(\"Hooper's Store Problem\", pulp.LpMaximize)\n",
    "\n",
    "x1 = pulp.LpVariable('x1', lowBound=0,cat='Integer')\n",
    "x2 = pulp.LpVariable('x2', lowBound=0,cat='Integer')\n",
    "x3 = pulp.LpVariable('x3', lowBound=0,cat='Integer')\n",
    "x4 = pulp.LpVariable('x4', lowBound=0,cat='Integer')\n",
    "x5 = pulp.LpVariable('x5', lowBound=0,cat='Integer')\n",
    "x6 = pulp.LpVariable('x6', lowBound=0,cat='Integer')\n",
    "x7 = pulp.LpVariable('x7', lowBound=0,cat='Integer')\n",
    "x8 = pulp.LpVariable('x8', lowBound=0,cat='Integer')\n",
    "\n",
    "# object function\n",
    "\n",
    "slackmodel += 110*x1 - 30*x2 - 56*x3 +10*x4, \"final profit\"\n",
    "\n",
    "# constraints \n",
    "slackmodel += 10*x1 - 2*x2 - 5.2*x3 - x5 == 8.8, \"constraint 1\"\n",
    "slackmodel += 10*x1 - 7*x3 + x6 == 13, \"constraint 2\"\n",
    "slackmodel += 150*x1 - 40*x2 -75*x3 + 10*x4 + x7 == 145, \"constraint 3\"\n",
    "slackmodel += -460*x1 + 110*x2 + 286*x3 - 30*x4 + x8 == -414, \"constraint 4\"\n",
    "\n",
    "print(slackmodel)\n",
    "\n",
    "slackmodel.solve()\n",
    "\n",
    "print(\"Maximum: {}\".format(pulp.value(slackmodel.objective)))\n",
    "\n",
    "print(\"x1: {}\".format(x1.varValue))\n",
    "print(\"x2: {}\".format(x2.varValue))\n",
    "print(\"x3: {}\".format(x3.varValue))\n",
    "print(\"x4: {}\".format(x4.varValue))\n",
    "print(\"x5: {}\".format(x5.varValue))\n",
    "print(\"x6: {}\".format(x6.varValue))\n",
    "print(\"x7: {}\".format(x7.varValue))\n",
    "print(\"x8: {}\".format(x8.varValue))"
   ]
  },
  {
   "cell_type": "markdown",
   "metadata": {},
   "source": [
    "---"
   ]
  },
  {
   "cell_type": "markdown",
   "metadata": {},
   "source": [
    "### Using `numpy` for matrix operations\n",
    "\n",
    "<a id='matrix'></a>\n",
    "\n",
    "\n",
    "Suppose we want to compute $$U^{-1}V$$\n",
    "where\n",
    "$$ \n",
    "U =\\left(\n",
    "\\begin{array}{ccc}\n",
    "1 & -6 & 0\\\\\n",
    "0 & 2 & 1\\\\\n",
    "0 & 2 & 0\\\\\n",
    "\\end{array}\n",
    "\\right)\n",
    "\\quad\n",
    "V =\\left(\n",
    "\\begin{array}{ccc}\n",
    "1  &  3 &  0\\\\\n",
    "16 & -3 &  0\\\\\n",
    "11 & -1 & -1\\\\\n",
    "\\end{array}\n",
    "\\right)\\,.\n",
    "$$\n",
    "\n",
    "The syntax is as follows."
   ]
  },
  {
   "cell_type": "code",
   "execution_count": 2,
   "metadata": {},
   "outputs": [
    {
     "name": "stdout",
     "output_type": "stream",
     "text": [
      "[[33.   0.  -3. ]\n",
      " [ 5.5 -0.5 -0.5]\n",
      " [ 5.  -2.   1. ]]\n"
     ]
    }
   ],
   "source": [
    "import numpy as np # REMEMBER TO INCLUDE THIS LINE!\n",
    "\n",
    "U = np.matrix([\n",
    "    [1,-6,0],\n",
    "    [0, 2,1],\n",
    "    [0, 2,0],\n",
    "]\n",
    ")\n",
    "\n",
    "V = np.matrix([\n",
    "    [ 0, 3, 0],\n",
    "    [16,-3, 0],\n",
    "    [11,-1,-1],\n",
    "]\n",
    ")\n",
    "\n",
    "M = np.linalg.inv(U)*V\n",
    "print(M)"
   ]
  },
  {
   "cell_type": "markdown",
   "metadata": {},
   "source": [
    "---"
   ]
  },
  {
   "cell_type": "markdown",
   "metadata": {},
   "source": [
    "<a id='help'></a>\n",
    "**Using iPython Notebooks**. When you click to the left of this box, you will notice that this box is highlighted by a slighly larger box. This is a *cell*. \n",
    "\n",
    "There are three types of cells in a notebook.\n",
    "\n",
    "1. Markdown.\n",
    "2. Code.\n",
    "3. Raw.\n",
    "\n",
    "You can change the type of cell by going to *Cell* on the tool bar.\n",
    "\n",
    "You can *evaluate* cells by hitting **Shift+Enter**. Depending on the type of cells, you will have different outputs."
   ]
  },
  {
   "cell_type": "markdown",
   "metadata": {},
   "source": [
    "---\n",
    "\n",
    "This is a **markdown** cell. Markdown is a lightweight markup language is similar to *html* with significantly less functionalities. However, the syntax is much simpler. You can find a [Markdown Cheatsheet here](https://github.com/adam-p/markdown-here/wiki/Markdown-Cheatsheet).\n",
    "\n",
    "---"
   ]
  },
  {
   "cell_type": "code",
   "execution_count": 8,
   "metadata": {},
   "outputs": [
    {
     "name": "stdout",
     "output_type": "stream",
     "text": [
      "Hello World!\n"
     ]
    }
   ],
   "source": [
    "# This is a CODE cell.\n",
    "# After you hit Shift+Enter, it evaluates the cell in Python.\n",
    "# Take note that in Python, to comment lines, you use the symbol #\n",
    "\n",
    "print(\"Hello World!\")\n",
    "\n"
   ]
  },
  {
   "cell_type": "raw",
   "metadata": {},
   "source": [
    "----\n",
    "\n",
    "This is a *raw* cell. Nothing happens when you hit Shift+Enter.\n",
    "\n",
    "----"
   ]
  },
  {
   "cell_type": "markdown",
   "metadata": {},
   "source": [
    "**Answering Questions**. You may choose to use *raw* or *markdown* cells to answer the questions. Of course, if the answer requires you to run a routine in Python, please use a *code* cell.\n"
   ]
  },
  {
   "cell_type": "code",
   "execution_count": null,
   "metadata": {
    "collapsed": true
   },
   "outputs": [],
   "source": []
  }
 ],
 "metadata": {
  "kernelspec": {
   "display_name": "Python 3",
   "language": "python",
   "name": "python3"
  },
  "language_info": {
   "codemirror_mode": {
    "name": "ipython",
    "version": 3
   },
   "file_extension": ".py",
   "mimetype": "text/x-python",
   "name": "python",
   "nbconvert_exporter": "python",
   "pygments_lexer": "ipython3",
   "version": "3.7.3"
  }
 },
 "nbformat": 4,
 "nbformat_minor": 2
}
